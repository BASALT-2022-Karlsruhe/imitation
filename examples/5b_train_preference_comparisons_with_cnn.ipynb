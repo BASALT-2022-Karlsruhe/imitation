{
    "cells": [
        {
            "cell_type": "markdown",
            "id": "1635a6fd",
            "metadata": {},
            "source": [
                "# Learning a Reward Function using Preference Comparisons on Atari\n",
                "\n",
                "In this case, we will use a convolutional neural network for our policy and reward model. We will also shape the learned reward model with the policy's learned value function, since these shaped rewards will be more informative for training - incentivizing agents to move to high-value states. In the interests of execution time, we will only do a little bit of training - much less than in the previous preference comparison notebook. To run this notebook, be sure to install the `atari` extras, for example by running `pip install imitation[atari]`."
            ]
        },
        {
            "cell_type": "markdown",
            "id": "08bdff31",
            "metadata": {},
            "source": [
                "First, we will set up the environment, reward network, et cetera."
            ]
        },
        {
            "cell_type": "code",
            "execution_count": 1,
            "id": "93187e19",
            "metadata": {
                "scrolled": true
            },
            "outputs": [],
            "source": [
                "import torch as th\n",
                "import gym\n",
                "from gym.wrappers import TimeLimit\n",
                "\n",
                "from seals.util import AutoResetWrapper\n",
                "\n",
                "from stable_baselines3 import PPO\n",
                "from stable_baselines3.common.atari_wrappers import AtariWrapper\n",
                "from stable_baselines3.common.env_util import make_vec_env\n",
                "from stable_baselines3.common.vec_env import VecFrameStack\n",
                "from stable_baselines3.ppo import CnnPolicy\n",
                "\n",
                "from imitation.algorithms import preference_comparisons\n",
                "from imitation.policies.base import NormalizeFeaturesExtractor\n",
                "from imitation.rewards.reward_nets import CnnRewardNet\n",
                "\n",
                "device = th.device(\"cuda\" if th.cuda.is_available() else \"cpu\")\n",
                "\n",
                "# Here we ensure that our environment has constant-length episodes by resetting\n",
                "# it when done, and running until 100 timesteps have elapsed.\n",
                "# For real training, you will want a much longer time limit.\n",
                "def constant_length_asteroids(num_steps):\n",
                "    atari_env = gym.make(\"AsteroidsNoFrameskip-v4\")\n",
                "    preprocessed_env = AtariWrapper(atari_env)\n",
                "    endless_env = AutoResetWrapper(preprocessed_env)\n",
                "    return TimeLimit(endless_env, max_episode_steps=num_steps)\n",
                "\n",
                "\n",
                "# For real training, you will want a vectorized environment with 8 environments in parallel.\n",
                "# This can be done by passing in n_envs=8 as an argument to make_vec_env.\n",
                "venv = make_vec_env(constant_length_asteroids, env_kwargs={\"num_steps\": 100})\n",
                "venv = VecFrameStack(venv, n_stack=4)\n",
                "\n",
                "reward_net = CnnRewardNet(\n",
                "    venv.observation_space,\n",
                "    venv.action_space,\n",
                ").to(device)\n",
                "\n",
                "fragmenter = preference_comparisons.RandomFragmenter(warning_threshold=0, seed=0)\n",
                "gatherer = preference_comparisons.SyntheticGatherer(seed=0)\n",
                "preference_model = preference_comparisons.PreferenceModel(reward_net)\n",
                "reward_trainer = preference_comparisons.BasicRewardTrainer(\n",
                "    model=reward_net,\n",
                "    loss=preference_comparisons.CrossEntropyRewardLoss(preference_model),\n",
                "    epochs=3,\n",
                ")\n",
                "\n",
                "agent = PPO(\n",
                "    policy=CnnPolicy,\n",
                "    env=venv,\n",
                "    seed=0,\n",
                "    n_steps=16,  # To train on atari well, set this to 128\n",
                "    batch_size=16,  # To train on atari well, set this to 256\n",
                "    ent_coef=0.01,\n",
                "    learning_rate=0.00025,\n",
                "    n_epochs=4,\n",
                ")\n",
                "\n",
                "trajectory_generator = preference_comparisons.AgentTrainer(\n",
                "    algorithm=agent,\n",
                "    reward_fn=reward_net,\n",
                "    venv=venv,\n",
                "    exploration_frac=0.0,\n",
                "    seed=0,\n",
                ")\n",
                "\n",
                "pref_comparisons = preference_comparisons.PreferenceComparisons(\n",
                "    trajectory_generator,\n",
                "    reward_net,\n",
                "    num_iterations=2,\n",
                "    fragmenter=fragmenter,\n",
                "    preference_gatherer=gatherer,\n",
                "    reward_trainer=reward_trainer,\n",
                "    fragment_length=10,\n",
                "    transition_oversampling=1,\n",
                "    initial_comparison_frac=0.1,\n",
                "    allow_variable_horizon=False,\n",
                "    seed=0,\n",
                "    initial_epoch_multiplier=1,\n",
                ")"
            ]
        },
        {
            "cell_type": "markdown",
            "id": "9ceadb25",
            "metadata": {},
            "source": [
                "We are now ready to train the reward model."
            ]
        },
        {
            "cell_type": "code",
            "execution_count": 2,
            "id": "1c2c4d3a",
            "metadata": {
                "scrolled": true
            },
            "outputs": [
                {
                    "name": "stdout",
                    "output_type": "stream",
                    "text": [
                        "Query schedule: [1, 9, 5]\n",
                        "Collecting 2 fragments (20 transitions)\n",
                        "Requested 20 transitions but only 0 in buffer. Sampling 20 additional transitions.\n",
                        "Creating fragment pairs\n",
                        "Gathering preferences\n",
                        "Dataset now contains 1 comparisons\n"
                    ]
                },
                {
                    "name": "stderr",
                    "output_type": "stream",
                    "text": [
                        "Training reward model: 100%|██████████| 3/3 [00:02<00:00,  1.42it/s]"
                    ]
                },
                {
                    "name": "stdout",
                    "output_type": "stream",
                    "text": [
                        "Training agent for 8 timesteps\n"
                    ]
                },
                {
                    "name": "stderr",
                    "output_type": "stream",
                    "text": [
                        "\n"
                    ]
                },
                {
                    "name": "stdout",
                    "output_type": "stream",
                    "text": [
                        "--------------------------------------\n",
                        "| raw/                    |          |\n",
                        "|    agent/rollout/ep_... | -2.89    |\n",
                        "|    agent/time/fps       | 37       |\n",
                        "|    agent/time/iterat... | 1        |\n",
                        "|    agent/time/time_e... | 0        |\n",
                        "|    agent/time/total_... | 16       |\n",
                        "--------------------------------------\n",
                        "--------------------------------------\n",
                        "| mean/                   |          |\n",
                        "|    agent/rollout/ep_... | -2.89    |\n",
                        "|    agent/time/fps       | 37       |\n",
                        "|    agent/time/iterat... | 1        |\n",
                        "|    agent/time/time_e... | 0        |\n",
                        "|    agent/time/total_... | 16       |\n",
                        "|    agent/train/appro... | 0.000103 |\n",
                        "|    agent/train/clip_... | 0.2      |\n",
                        "|    agent/train/entro... | -2.64    |\n",
                        "|    agent/train/expla... | 0.0135   |\n",
                        "|    agent/train/learn... | 0.00025  |\n",
                        "|    agent/train/loss     | -0.0377  |\n",
                        "|    agent/train/n_upd... | 4        |\n",
                        "|    agent/train/polic... | -0.00596 |\n",
                        "|    agent/train/value... | 0.0107   |\n",
                        "|    preferences/entropy  | 0.693    |\n",
                        "|    reward/accuracy      | 0        |\n",
                        "|    reward/gt_reward_... | 0.693    |\n",
                        "|    reward/loss          | 0.867    |\n",
                        "--------------------------------------\n",
                        "Collecting 18 fragments (180 transitions)\n",
                        "Requested 180 transitions but only 0 in buffer. Sampling 180 additional transitions.\n",
                        "Creating fragment pairs\n",
                        "Gathering preferences\n",
                        "Dataset now contains 10 comparisons\n"
                    ]
                },
                {
                    "name": "stderr",
                    "output_type": "stream",
                    "text": [
                        "Training reward model: 100%|██████████| 3/3 [00:34<00:00, 11.49s/it]"
                    ]
                },
                {
                    "name": "stdout",
                    "output_type": "stream",
                    "text": [
                        "Training agent for 8 timesteps\n"
                    ]
                },
                {
                    "name": "stderr",
                    "output_type": "stream",
                    "text": [
                        "\n"
                    ]
                },
                {
                    "name": "stdout",
                    "output_type": "stream",
                    "text": [
                        "-------------------------------------------\n",
                        "| raw/                    |               |\n",
                        "|    agent/rollout/ep_... | -2.72         |\n",
                        "|    agent/time/fps       | 16            |\n",
                        "|    agent/time/iterat... | 1             |\n",
                        "|    agent/time/time_e... | 0             |\n",
                        "|    agent/time/total_... | 32            |\n",
                        "|    agent/train/appro... | 0.00010267645 |\n",
                        "|    agent/train/clip_... | 0.2           |\n",
                        "|    agent/train/entro... | -2.64         |\n",
                        "|    agent/train/expla... | 0.0135        |\n",
                        "|    agent/train/learn... | 0.00025       |\n",
                        "|    agent/train/loss     | -0.0377       |\n",
                        "|    agent/train/n_upd... | 4             |\n",
                        "|    agent/train/polic... | -0.00596      |\n",
                        "|    agent/train/value... | 0.0107        |\n",
                        "-------------------------------------------\n",
                        "--------------------------------------\n",
                        "| mean/                   |          |\n",
                        "|    agent/rollout/ep_... | -2.72    |\n",
                        "|    agent/time/fps       | 16       |\n",
                        "|    agent/time/iterat... | 1        |\n",
                        "|    agent/time/time_e... | 0        |\n",
                        "|    agent/time/total_... | 32       |\n",
                        "|    agent/train/appro... | 0.0001   |\n",
                        "|    agent/train/clip_... | 0.2      |\n",
                        "|    agent/train/entro... | -2.64    |\n",
                        "|    agent/train/expla... | 0.485    |\n",
                        "|    agent/train/learn... | 0.00025  |\n",
                        "|    agent/train/loss     | -0.0252  |\n",
                        "|    agent/train/n_upd... | 8        |\n",
                        "|    agent/train/polic... | -0.0049  |\n",
                        "|    agent/train/value... | 0.0233   |\n",
                        "|    preferences/entropy  | 0.656    |\n",
                        "|    reward/accuracy      | 0.667    |\n",
                        "|    reward/gt_reward_... | 0.679    |\n",
                        "|    reward/loss          | 0.621    |\n",
                        "--------------------------------------\n",
                        "Collecting 10 fragments (100 transitions)\n",
                        "Requested 100 transitions but only 0 in buffer. Sampling 100 additional transitions.\n",
                        "Creating fragment pairs\n",
                        "Gathering preferences\n",
                        "Dataset now contains 15 comparisons\n"
                    ]
                },
                {
                    "name": "stderr",
                    "output_type": "stream",
                    "text": [
                        "Training reward model: 100%|██████████| 3/3 [00:45<00:00, 15.22s/it]"
                    ]
                },
                {
                    "name": "stdout",
                    "output_type": "stream",
                    "text": [
                        "Training agent for 8 timesteps\n"
                    ]
                },
                {
                    "name": "stderr",
                    "output_type": "stream",
                    "text": [
                        "\n"
                    ]
                },
                {
                    "name": "stdout",
                    "output_type": "stream",
                    "text": [
                        "------------------------------------------\n",
                        "| raw/                    |              |\n",
                        "|    agent/rollout/ep_... | -2.42        |\n",
                        "|    agent/time/fps       | 35           |\n",
                        "|    agent/time/iterat... | 1            |\n",
                        "|    agent/time/time_e... | 0            |\n",
                        "|    agent/time/total_... | 48           |\n",
                        "|    agent/train/appro... | 0.0001000762 |\n",
                        "|    agent/train/clip_... | 0.2          |\n",
                        "|    agent/train/entro... | -2.64        |\n",
                        "|    agent/train/expla... | 0.485        |\n",
                        "|    agent/train/learn... | 0.00025      |\n",
                        "|    agent/train/loss     | -0.0252      |\n",
                        "|    agent/train/n_upd... | 8            |\n",
                        "|    agent/train/polic... | -0.0049      |\n",
                        "|    agent/train/value... | 0.0233       |\n",
                        "------------------------------------------\n",
                        "--------------------------------------\n",
                        "| mean/                   |          |\n",
                        "|    agent/rollout/ep_... | -2.42    |\n",
                        "|    agent/time/fps       | 35       |\n",
                        "|    agent/time/iterat... | 1        |\n",
                        "|    agent/time/time_e... | 0        |\n",
                        "|    agent/time/total_... | 48       |\n",
                        "|    agent/train/appro... | 6.23e-05 |\n",
                        "|    agent/train/clip_... | 0.2      |\n",
                        "|    agent/train/entro... | -2.64    |\n",
                        "|    agent/train/expla... | 0.279    |\n",
                        "|    agent/train/learn... | 0.00025  |\n",
                        "|    agent/train/loss     | -0.0244  |\n",
                        "|    agent/train/n_upd... | 12       |\n",
                        "|    agent/train/polic... | -0.00365 |\n",
                        "|    agent/train/value... | 0.0384   |\n",
                        "|    preferences/entropy  | 0.693    |\n",
                        "|    reward/accuracy      | 0.644    |\n",
                        "|    reward/gt_reward_... | 0.684    |\n",
                        "|    reward/loss          | 0.622    |\n",
                        "--------------------------------------\n"
                    ]
                },
                {
                    "data": {
                        "text/plain": [
                            "{'reward_loss': 0.6221150159835815, 'reward_accuracy': 0.644444465637207}"
                        ]
                    },
                    "execution_count": 2,
                    "metadata": {},
                    "output_type": "execute_result"
                }
            ],
            "source": [
                "pref_comparisons.train(\n",
                "    total_timesteps=16,\n",
                "    total_comparisons=15,\n",
                ")"
            ]
        },
        {
            "cell_type": "markdown",
            "id": "f5de1f5f",
            "metadata": {},
            "source": [
                "We can now wrap the environment with the learned reward model, shaped by the policy's learned value function. Note that if we were training this for real, we would want to normalize the output of the reward net as well as the value function, to ensure their values are on the same scale. To do this, use the `NormalizedRewardNet` class from `src/imitation/rewards/reward_nets.py` on `reward_net`, and modify the potential to add a `RunningNorm` module from `src/imitation/util/networks.py`."
            ]
        },
        {
            "cell_type": "code",
            "execution_count": 3,
            "id": "fbcee105",
            "metadata": {},
            "outputs": [],
            "source": [
                "from imitation.rewards.reward_nets import ShapedRewardNet, cnn_transpose\n",
                "from imitation.rewards.reward_wrapper import RewardVecEnvWrapper\n",
                "\n",
                "\n",
                "def value_potential(state):\n",
                "    state_ = cnn_transpose(state)\n",
                "    return agent.policy.predict_values(state_)\n",
                "\n",
                "\n",
                "shaped_reward_net = ShapedRewardNet(\n",
                "    base=reward_net,\n",
                "    potential=value_potential,\n",
                "    discount_factor=0.99,\n",
                ")\n",
                "learned_reward_venv = RewardVecEnvWrapper(venv, shaped_reward_net.predict)"
            ]
        },
        {
            "cell_type": "markdown",
            "id": "41efea37",
            "metadata": {},
            "source": [
                "Next, we train an agent that sees only the shaped, learned reward."
            ]
        },
        {
            "cell_type": "code",
            "execution_count": 4,
            "id": "63cc3121",
            "metadata": {},
            "outputs": [
                {
                    "data": {
                        "text/plain": [
                            "<stable_baselines3.ppo.ppo.PPO at 0x7fadb817f640>"
                        ]
                    },
                    "execution_count": 4,
                    "metadata": {},
                    "output_type": "execute_result"
                }
            ],
            "source": [
                "learner = PPO(\n",
                "    policy=CnnPolicy,\n",
                "    env=learned_reward_venv,\n",
                "    seed=0,\n",
                "    batch_size=64,\n",
                "    ent_coef=0.0,\n",
                "    learning_rate=0.0003,\n",
                "    n_epochs=10,\n",
                "    n_steps=64,\n",
                ")\n",
                "learner.learn(1000)"
            ]
        },
        {
            "cell_type": "markdown",
            "id": "16331df8",
            "metadata": {},
            "source": [
                "We now evaluate the learner using the original reward."
            ]
        },
        {
            "cell_type": "code",
            "execution_count": 5,
            "id": "c2c4828b",
            "metadata": {},
            "outputs": [
                {
                    "name": "stdout",
                    "output_type": "stream",
                    "text": [
                        "1.3\n"
                    ]
                }
            ],
            "source": [
                "from stable_baselines3.common.evaluation import evaluate_policy\n",
                "\n",
                "reward, _ = evaluate_policy(learner.policy, venv, 10)\n",
                "print(reward)"
            ]
        }
    ],
    "metadata": {
        "kernelspec": {
            "display_name": "Python 3.8.13 ('basalt')",
            "language": "python",
            "name": "python3"
        },
        "language_info": {
            "codemirror_mode": {
                "name": "ipython",
                "version": 3
            },
            "file_extension": ".py",
            "mimetype": "text/x-python",
            "name": "python",
            "nbconvert_exporter": "python",
            "pygments_lexer": "ipython3",
            "version": "3.8.13"
        },
        "vscode": {
            "interpreter": {
                "hash": "45950c4713934b6eb6097fde79cc8ec77154b16e9f9d333e5a74b640d19f8bc2"
            }
        }
    },
    "nbformat": 4,
    "nbformat_minor": 5
}
